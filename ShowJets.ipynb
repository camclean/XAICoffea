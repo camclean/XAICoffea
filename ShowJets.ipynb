{
 "cells": [
  {
   "cell_type": "markdown",
   "metadata": {},
   "source": [
    "# Plotting jets as images"
   ]
  },
  {
   "cell_type": "code",
   "execution_count": 2,
   "metadata": {},
   "outputs": [],
   "source": [
    "import time\n",
    "\n",
    "from coffea import hist\n",
    "from coffea.analysis_objects import JaggedCandidateArray\n",
    "import coffea.processor as processor\n",
    "from awkward import JaggedArray\n",
    "import numpy as np\n",
    "import glob as glob\n",
    "import itertools\n",
    "import json\n",
    "\n",
    "import copy"
   ]
  },
  {
   "cell_type": "code",
   "execution_count": null,
   "metadata": {},
   "outputs": [],
   "source": [
    "def rotate_to_leading_subjet(jetparticles,Jets):\n",
    "    \n",
    "    rotated = copy.copy(jetparticles)\n",
    "    \n",
    "    subjet0leading = Jets.jet_subjet0_pt > Jets.jet_subjet1_pt\n",
    "    centroid1_pt = np.where( subjet0leading, Jets.jet_subjet0_pt, Jets.jet_subjet1_pt  )\n",
    "    centroid1_eta = np.where( subjet0leading, Jets.jet_subjet0_eta, Jets.jet_subjet1_eta  )\n",
    "    centroid1_phi = np.where( subjet0leading, Jets.jet_subjet0_phi, Jets.jet_subjet1_phi  )\n",
    "    centroid1_m = np.where( subjet0leading, Jets.jet_subjet0_m, Jets.jet_subjet1_m  )\n",
    "    centroid2_pt = np.where( subjet0leading, Jets.jet_subjet1_pt, Jets.jet_subjet0_pt,   )\n",
    "    centroid2_eta = np.where( subjet0leading, Jets.jet_subjet1_eta, Jets.jet_subjet0_eta  )\n",
    "    centroid2_phi = np.where( subjet0leading, Jets.jet_subjet1_phi, Jets.jet_subjet0_phi  )\n",
    "    centroid2_m = np.where( subjet0leading, Jets.jet_subjet1_m, Jets.jet_subjet0_m  )\n",
    "    \n",
    "    centroid1 = uproot_methods.TLorentzVectorArray.from_ptetaphim( centroid1_pt, centroid1_eta, centroid1_phi, centroid1_m )\n",
    "    centroid2 = uproot_methods.TLorentzVectorArray.from_ptetaphim( centroid2_pt, centroid2_eta, centroid2_phi, centroid2_m )\n",
    "\n",
    "    \n",
    "    ## Now we do the rotations here: \n",
    "\n",
    "    return rotated\n",
    "    "
   ]
  },
  {
   "cell_type": "code",
   "execution_count": null,
   "metadata": {},
   "outputs": [],
   "source": []
  },
  {
   "cell_type": "code",
   "execution_count": 3,
   "metadata": {},
   "outputs": [],
   "source": [
    "# Look at ProcessorABC to see the expected methods and what they are supposed to do\n",
    "class JetImageProcessor(processor.ProcessorABC):\n",
    "    def __init__(self):\n",
    "        dataset_axis = hist.Cat(\"dataset\", \"Primary dataset\")\n",
    "        eta_axis = hist.Bin(\"eta\", r\"$\\eta$\", 20, -5, 5)\n",
    "        pt_axis = hist.Bin(\"pt\", r\"$p_{T}$ [GeV]\", \n",
    "                           np.array([0,5,10,15,20,25,30,35,40,45,50,60,70,80,90,\n",
    "                                     100,120,140,160,180,\n",
    "                                     200,250,300,350,400,450,500,\n",
    "                                     600,700,800,900,1000,\n",
    "                                     1500,2000,3000,4000,5000]))\n",
    "        m_axis = hist.Bin(\"m\", r\"$p_{T}$ [GeV]\", 200, 0, 500)\n",
    "        \n",
    "        self._accumulator = processor.dict_accumulator({\n",
    "            'pt':hist.Hist(\"Counts\", dataset_axis, pt_axis),\n",
    "            'eta':hist.Hist(\"Counts\", dataset_axis, eta_axis),\n",
    "            'cutflow': processor.defaultdict_accumulator(int),\n",
    "        })\n",
    "    \n",
    "    @property\n",
    "    def accumulator(self):\n",
    "        return self._accumulator\n",
    "    \n",
    "    def process(self, df):\n",
    "        output = self.accumulator.identity()\n",
    "\n",
    "        #print(\"1\")\n",
    "        dataset = df['dataset']\n",
    "        Jets = JaggedCandidateArray.candidatesfromcounts(\n",
    "            df['nJet'],\n",
    "            pt=df['jet_pt'],\n",
    "            eta=df['jet_eta'],\n",
    "            phi=df['jet_phi'],\n",
    "            mass=df['jet_m'],\n",
    "            msd=df['jet_msd'],\n",
    "            jet_subjet0_pt=df['jet_subjet0_pt'],\n",
    "            jet_subjet0_eta=df['jet_subjet0_eta'],\n",
    "            jet_subjet0_phi=df['jet_subjet0_phi'],\n",
    "            jet_subjet0_m=df['jet_subjet0_m'],\n",
    "            jet_subjet1_pt=df['jet_subjet1_pt'],\n",
    "            jet_subjet1_eta=df['jet_subjet1_eta'],\n",
    "            jet_subjet1_phi=df['jet_subjet1_phi'],\n",
    "            jet_subjet1_m=df['jet_subjet1_m'],\n",
    "            )        \n",
    "        particles = JaggedCandidateArray.candidatesfromcounts(\n",
    "            df['nGen'],\n",
    "            pt=df['gen_pt'],\n",
    "            eta=df['gen_eta'],\n",
    "            phi=df['gen_phi'],\n",
    "            mass=df['gen_m'],\n",
    "            pdgid=df['gen_id'],\n",
    "            status=df['gen_status']\n",
    "            )\n",
    "        \n",
    "        \n",
    "        finalpart_index = (particles.status == 84)\n",
    "        particles = particles[finalpart_index]\n",
    "        output['cutflow']['all events'] += Jets.size\n",
    "\n",
    "        twoJets = (Jets.counts >= 2)\n",
    "        Jets = Jets[twoJets]\n",
    "        particles = particles[twoJets]\n",
    "        output['cutflow']['>=2 jets'] += twoJets.sum()\n",
    "        #print('Jets.shape ', Jets.shape)\n",
    "        \n",
    "        \n",
    "        #pairing = particles.p4.cross(Jets.p4[:,0], nested=True)\n",
    "        #print(\"pairing.shape \", pairing.shape)\n",
    "        metric = particles.p4.delta_r(Jets.p4[:,0])\n",
    "        #print(\"metric.shape \", metric.shape )\n",
    "        dr_cut = (metric < 0.8)\n",
    "        \n",
    "        jetparticles = particles[dr_cut]\n",
    "        #rotatedparticles = rotate_to_leading_subjet(jetparticles,Jets)\n",
    "        #print('jetparticles: ', jetparticles)\n",
    "        \n",
    "        output['pt'].fill(dataset=dataset,\n",
    "                            pt=Jets.pt.flatten())\n",
    "        output['eta'].fill(dataset=dataset, \n",
    "                                 eta=Jets.eta.flatten())\n",
    "        return output\n",
    "\n",
    "    def postprocess(self, accumulator):\n",
    "        return accumulator"
   ]
  },
  {
   "cell_type": "code",
   "execution_count": 4,
   "metadata": {},
   "outputs": [
    {
     "name": "stderr",
     "output_type": "stream",
     "text": [
      "Preprocessing: 100%|██████████| 3/3 [00:00<00:00, 358.56it/s]\n",
      "Processing: 100%|██████████| 6/6 [01:20<00:00, 13.35s/items]"
     ]
    },
    {
     "name": "stdout",
     "output_type": "stream",
     "text": [
      "{'pt': <Hist (dataset,pt) instance at 0x7f1ed75b0a58>, 'eta': <Hist (dataset,eta) instance at 0x7f1e9c591710>, 'cutflow': defaultdict(<class 'int'>, {'all events': 299632, '>=2 jets': 291180})}\n"
     ]
    },
    {
     "name": "stderr",
     "output_type": "stream",
     "text": [
      "\n"
     ]
    }
   ],
   "source": [
    "\n",
    "\n",
    "fileset={\n",
    "    'Zprime1TeV':['/mnt/data/ml/gravkk_zz_1TeV_addsubstructure.root'],\n",
    "    'Zprime2TeV':['/mnt/data/ml/gravkk_zz_2TeV_addsubstructure.root'],\n",
    "    'Zprime3TeV':['/mnt/data/ml/gravkk_zz_3TeV_addsubstructure.root'],\n",
    "    #'QCD':'/mnt/data/ml/qcd_flat15to7000_addsubstructure.root'\n",
    "}\n",
    "tstart = time.time() \n",
    "output = processor.run_uproot_job(fileset,\n",
    "                                  treename='T',\n",
    "                                  processor_instance=JetImageProcessor(),\n",
    "                                  executor=processor.futures_executor,\n",
    "                                  executor_args={'workers': 1, 'flatten': True},\n",
    "                                  chunksize=50000,\n",
    "                                  \n",
    "                                 )\n",
    "\n",
    "\n",
    "elapsed = time.time() - tstart\n",
    "print(output)"
   ]
  },
  {
   "cell_type": "code",
   "execution_count": 5,
   "metadata": {},
   "outputs": [],
   "source": [
    "import matplotlib.pyplot as plt"
   ]
  },
  {
   "cell_type": "code",
   "execution_count": 6,
   "metadata": {},
   "outputs": [
    {
     "data": {
      "image/png": "[encoded data removed]",
      "text/plain": [
       "<Figure size 432x288 with 1 Axes>"
      ]
     },
     "metadata": {
      "needs_background": "light"
     },
     "output_type": "display_data"
    }
   ],
   "source": [
    "fig, ax = hist.plotgrid(output['pt'], overlay=\"dataset\", stack=False\n",
    "                                 )\n",
    "plt.yscale(\"log\")\n",
    "for iax in ax.flatten():\n",
    "    iax.autoscale(axis='y')\n",
    "fig.show()"
   ]
  },
  {
   "cell_type": "code",
   "execution_count": null,
   "metadata": {},
   "outputs": [],
   "source": []
  },
  {
   "cell_type": "code",
   "execution_count": 7,
   "metadata": {},
   "outputs": [
    {
     "data": {
      "image/png": "[encoded data removed]",
      "text/plain": [
       "<Figure size 432x288 with 1 Axes>"
      ]
     },
     "metadata": {
      "needs_background": "light"
     },
     "output_type": "display_data"
    }
   ],
   "source": [
    "fig, ax = hist.plotgrid(output['eta'], overlay=\"dataset\", stack=False\n",
    "                                 )\n",
    "plt.yscale(\"log\")\n",
    "for iax in ax.flatten():\n",
    "    iax.autoscale(axis='y')\n",
    "fig.show()"
   ]
  },
  {
   "cell_type": "code",
   "execution_count": 8,
   "metadata": {},
   "outputs": [
    {
     "name": "stdout",
     "output_type": "stream",
     "text": [
      "Events/s: 3738.201931622532\n"
     ]
    }
   ],
   "source": [
    "print(\"Events/s:\", output['cutflow']['all events']/elapsed)"
   ]
  },
  {
   "cell_type": "code",
   "execution_count": null,
   "metadata": {},
   "outputs": [],
   "source": []
  }
 ],
 "metadata": {
  "kernelspec": {
   "display_name": "Python 3",
   "language": "python",
   "name": "python3"
  },
  "language_info": {
   "codemirror_mode": {
    "name": "ipython",
    "version": 3
   },
   "file_extension": ".py",
   "mimetype": "text/x-python",
   "name": "python",
   "nbconvert_exporter": "python",
   "pygments_lexer": "ipython3",
   "version": "3.6.8"
  }
 },
 "nbformat": 4,
 "nbformat_minor": 2
}
