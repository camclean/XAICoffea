{
 "cells": [
  {
   "cell_type": "markdown",
   "metadata": {},
   "source": [
    "# Plotting jets as images"
   ]
  },
  {
   "cell_type": "code",
   "execution_count": 1,
   "metadata": {},
   "outputs": [],
   "source": [
    "import time\n",
    "\n",
    "from coffea import hist\n",
    "from coffea.analysis_objects import JaggedCandidateArray\n",
    "import coffea.processor as processor\n",
    "from awkward import JaggedArray\n",
    "import numpy as np\n",
    "import glob as glob\n",
    "import itertools\n",
    "import json\n",
    "import uproot_methods\n",
    "import copy\n",
    "from coord_transform import *\n",
    "import tensorflow as tf"
   ]
  },
  {
   "cell_type": "code",
   "execution_count": 2,
   "metadata": {},
   "outputs": [],
   "source": [
    "def pseudorapidity(theta):\n",
    "    return -np.log(np.tan(theta*0.5))"
   ]
  },
  {
   "cell_type": "code",
   "execution_count": 17,
   "metadata": {},
   "outputs": [],
   "source": [
    "def dataStream(output):\n",
    "    parameters = list(output)\n",
    "    pt = []\n",
    "    eta = []\n",
    "    images = []\n",
    "    dr = []\n",
    "    pdgid = []\n",
    "    for i in range(len(parameters)):\n",
    "        files = list(output[str(parameters[i])].values())\n",
    "        for j in range(len(files)):\n",
    "            if (parameters[i] == 'pt'):#pt\n",
    "                pt.append(np.array((output[parameters[i]][files[j]].values()).get(files[j])))\n",
    "            if (parameters[i] == 'eta'):#eta\n",
    "                eta.append(np.array((output[parameters[i]][files[j]].values()).get(files[j])))\n",
    "            if (parameters[i] == 'image'):#eta\n",
    "                images.append(np.array((output[parameters[i]][files[j]].values()).get(files[j])))\n",
    "            if (parameters[i] == 'dr'):#eta\n",
    "                dr.append(np.array((output[parameters[i]][files[j]].values()).get(files[j])))\n",
    "            if (parameters[i] == 'pdgid'):#eta\n",
    "                pdgid.append(np.array((output[parameters[i]][files[j]].values()).get(files[j])))\n",
    "    l = int(len(images)*len(images[0]))\n",
    "    pt = tf.data.Dataset.from_tensors(np.array(pt).flatten())\n",
    "    eta = tf.data.Dataset.from_tensors(np.array(eta).flatten())\n",
    "    images = tf.data.Dataset.from_tensors(np.array(images).reshape(l,16,16))\n",
    "    dr = tf.data.Dataset.from_tensors(np.array(dr).flatten())\n",
    "    pdgid = tf.data.Dataset.from_tensors(np.array(pdgid).flatten())\n",
    "    dataset = tf.data.Dataset.zip((pt,eta,images,dr,pdgid))\n",
    "    return dataset"
   ]
  },
  {
   "cell_type": "code",
   "execution_count": 4,
   "metadata": {},
   "outputs": [],
   "source": [
    "def transform_to_softdrop_axes(jetparticles,Jets):\n",
    "    \n",
    "    subjet0leading = (Jets.subjet0_pt > Jets.subjet1_pt)\n",
    "    centroid1_pt = np.where( subjet0leading, Jets.subjet0_pt, Jets.subjet1_pt  )\n",
    "    centroid1_eta = np.where( subjet0leading, Jets.subjet0_eta, Jets.subjet1_eta  )\n",
    "    centroid1_phi = np.where( subjet0leading, Jets.subjet0_phi, Jets.subjet1_phi  )\n",
    "    centroid1_m = np.where( subjet0leading, Jets.subjet0_m, Jets.subjet1_m  )\n",
    "    centroid2_pt = np.where( subjet0leading, Jets.subjet1_pt, Jets.subjet0_pt,   )\n",
    "    centroid2_eta = np.where( subjet0leading, Jets.subjet1_eta, Jets.subjet0_eta  )\n",
    "    centroid2_phi = np.where( subjet0leading, Jets.subjet1_phi, Jets.subjet0_phi  )\n",
    "    centroid2_m = np.where( subjet0leading, Jets.subjet1_m, Jets.subjet0_m  )\n",
    "    pcentroid1 = uproot_methods.TLorentzVectorArray.from_ptetaphim( centroid1_pt, centroid1_eta, centroid1_phi, centroid1_m )\n",
    "    pcentroid2 = uproot_methods.TLorentzVectorArray.from_ptetaphim( centroid2_pt, centroid2_eta, centroid2_phi, centroid2_m )\n",
    "    \n",
    "    #distance between the two centroids\n",
    "    r0 = pcentroid1.delta_r(pcentroid2)\n",
    "    \n",
    "    centroid1 = uproot_methods.TVector3Array.from_cartesian(pcentroid1.x, pcentroid1.y, pcentroid1.z)\n",
    "    centroid2 = uproot_methods.TVector3Array.from_cartesian(pcentroid2.x, pcentroid2.y, pcentroid2.z)\n",
    "    particle_p3s = uproot_methods.TVector3Array.from_cartesian(jetparticles.p4.x, jetparticles.p4.y, jetparticles.p4.z)\n",
    "    \n",
    "    # Rotate coordinate system so \"centroid1\" is along the x axis\n",
    "    rot1_axis, rot1_angle = coord_rotation( centroid1, uproot_methods.TVector3(1,0,0) )    \n",
    "    centroid1 = centroid1.rotate_axis(rot1_axis, rot1_angle)\n",
    "    centroid2 = centroid2.rotate_axis(rot1_axis, rot1_angle)\n",
    "    particle_p3s = particle_p3s.rotate_axis(rot1_axis, rot1_angle)\n",
    "\n",
    "    # Rotate about the z axis so that centroid2 is pointing down\n",
    "    rot2_angle = -np.arctan2( centroid2.z, centroid2.y )\n",
    "    centroid2 = centroid2.rotatex(rot2_angle)\n",
    "    particle_p3s = particle_p3s.rotatex(rot2_angle)\n",
    "    \n",
    "    # Scale the image so that centroid2 is at (0,1,0)\n",
    "    deta = np.divide(pseudorapidity(particle_p3s.theta),r0)\n",
    "    dphi = np.divide(particle_p3s.phi,r0)\n",
    "        \n",
    "    return deta,dphi,centroid1,centroid2"
   ]
  },
  {
   "cell_type": "code",
<<<<<<< HEAD
   "execution_count": 5,
=======
   "execution_count": 4,
>>>>>>> 6fb14164526396d097c5bb9a7dbce2d909ab81f6
   "metadata": {},
   "outputs": [],
   "source": [
    "# Look at ProcessorABC to see the expected methods and what they are supposed to do\n",
    "class JetImageProcessor(processor.ProcessorABC):\n",
    "    def __init__(self):\n",
    "        self.eta_bins = 16\n",
    "        self.phi_bins = 16\n",
    "        dataset_axis = hist.Cat(\"dataset\", \"Primary dataset\")\n",
    "        event_axis = hist.Bin(\"event\", \"Event number\", 10000, 0, 10000 )\n",
    "        pdgid_axis = hist.Bin(\"pdgid\", r\"PDG ID\", 10000, -5000, 5000)\n",
    "        eta_axis = hist.Bin(\"eta\", r\"$\\eta$\", 32, -5, 5)\n",
    "        phi_axis = hist.Bin(\"phi\", r\"$\\phi$\", 32, -np.pi, np.pi)\n",
<<<<<<< HEAD
    "        image_dphi = hist.Bin(\"image_dphi\", r\"$Q_1$\", self.phi_bins, -2, 2) #yaxis\n",
    "        image_deta = hist.Bin(\"image_deta\", r\"$Q_2$\", self.eta_bins, -2, 2) #xaxis\n",
=======
    "        image_dphi = hist.Bin(\"image_dphi\", r\"$Q_1$\", 16, -1, 1)\n",
    "        image_deta = hist.Bin(\"image_deta\", r\"$Q_2$\", 16, -1, 1)\n",
>>>>>>> 6fb14164526396d097c5bb9a7dbce2d909ab81f6
    "        pt_axis = hist.Bin(\"pt\", r\"$p_{T}$ [GeV]\", 1000, 0, 5000)\n",
    "        m_axis = hist.Bin(\"m\", r\"$p_{T}$ [GeV]\", 200, 0, 500)\n",
    "        dr_axis = hist.Bin(\"dr\", r\"$\\Delta r$\", 80, 0, 0.8)\n",
    "        \n",
    "        self._accumulator = processor.dict_accumulator({\n",
    "            'pt':hist.Hist(\"Counts\", dataset_axis, pt_axis),\n",
    "            'eta':hist.Hist(\"Counts\", dataset_axis, eta_axis),\n",
    "            'image':hist.Hist(r\"$p_{T}$\", dataset_axis, event_axis, image_dphi, image_deta),\n",
    "            'dr':hist.Hist(\"Counts\", dataset_axis, dr_axis),\n",
    "            'pdgid':hist.Hist(\"Counts\", dataset_axis, pdgid_axis),\n",
    "            'cutflow': processor.defaultdict_accumulator(int)\n",
    "        })\n",
    "    \n",
    "    @property\n",
    "    def accumulator(self):\n",
    "        return self._accumulator\n",
    "    \n",
    "    def process(self, df):\n",
    "        output = self.accumulator.identity()\n",
    "\n",
    "        \n",
    "        dataset = df['dataset']\n",
    "        evnum = df['eventNum']\n",
    "        \n",
<<<<<<< HEAD
=======
    "        \n",
>>>>>>> 6fb14164526396d097c5bb9a7dbce2d909ab81f6
    "        Jets = JaggedCandidateArray.candidatesfromcounts(\n",
    "            df['nJet'],\n",
    "            pt=df['jet_pt'],\n",
    "            eta=df['jet_eta'],\n",
    "            phi=df['jet_phi'],\n",
    "            mass=df['jet_m'],\n",
    "            msd=df['jet_msd'],\n",
    "            subjet0_pt=df['jet_subjet0_pt'],\n",
    "            subjet0_eta=df['jet_subjet0_eta'],\n",
    "            subjet0_phi=df['jet_subjet0_phi'],\n",
    "            subjet0_m=df['jet_subjet0_m'],\n",
    "            subjet1_pt=df['jet_subjet1_pt'],\n",
    "            subjet1_eta=df['jet_subjet1_eta'],\n",
    "            subjet1_phi=df['jet_subjet1_phi'],\n",
    "            subjet1_m=df['jet_subjet1_m'],\n",
    "            ic=df['jet_ic']\n",
    "            )        \n",
    "        constituents = JaggedCandidateArray.candidatesfromcounts(\n",
    "            df['nConstituent'],\n",
    "            pt=df['constituent_pt'],\n",
    "            eta=df['constituent_eta'],\n",
    "            phi=df['constituent_phi'],\n",
    "            mass=df['constituent_m'],\n",
    "            pdgid=df['constituent_id']\n",
    "            )\n",
    "        deta,dphi,centroid1,centroid2= transform_to_softdrop_axes(constituents, Jets[:,0])        \n",
    "        constituents.add_attributes( deta=deta )\n",
    "        constituents.add_attributes( dphi=dphi )\n",
    "        \n",
    "        constituents = constituents[constituents.pt > 1]\n",
    "        \n",
    "        \n",
    "        Jets = Jets[Jets.pt > 200]\n",
    "        oneJet = (Jets.counts >=1)\n",
    "        Jets = Jets[oneJet]\n",
    "        constituents = constituents[oneJet]\n",
    "        evnum = evnum[oneJet]\n",
    "                \n",
    "        dr = Jets[:,0].p4.delta_r(constituents.p4)\n",
    "        jetconstituents = constituents[dr < 0.8]\n",
    "        jetconstituents = jetconstituents\n",
    "        \n",
    "        deta = jetconstituents.deta\n",
    "        dphi = jetconstituents.dphi\n",
    "        \n",
<<<<<<< HEAD
    "        eventReshaped = JaggedArray.fromoffsets( jetconstituents.offsets, np.ones(deta.flatten().shape[0]))\n",
    "        eventReshaped = eventReshaped * evnum\n",
    "        \n",
    "        # Performing parity flip so that sum(right) is higher than sum(left) for each image\n",
    "        xbins= np.linspace(-2,2,num=self.eta_bins+1)\n",
    "        ybins= np.linspace(-2,2,num=self.phi_bins+1)\n",
    "        h_images = (np.vstack(np.array([(np.histogram2d( dphi[i], deta[i], bins=(ybins, xbins),\n",
    "                    weights =jetconstituents.pt[i])) for i in range(len(eventReshaped))])[:,0])).reshape(len(eventReshaped),\n",
    "                    self.phi_bins, self.eta_bins)\n",
    "        mask = ( np.sum(np.sum(h_images[:,:,:int(self.eta_bins/2)],axis = 1),axis = 1) < np.sum(np.sum(h_images[:,:,int(self.eta_bins/2):],axis = 1),axis = 1))\n",
    "        sign = np.where(mask, 1, -1)\n",
    "        deta = (sign*deta)\n",
    "        deta = deta\n",
    "        \n",
    "        output['pt'].fill(dataset=dataset,\n",
    "                          pt=Jets.pt[:,0].flatten())\n",
    "        output['eta'].fill(dataset=dataset,\n",
    "                           eta=Jets.eta[:,0].flatten())\n",
    "        output['image'].fill(dataset=dataset,\n",
    "                            event=eventReshaped.flatten(), \n",
    "                            image_deta=deta.flatten(),\n",
    "                            image_dphi=dphi.flatten(),\n",
    "                            weight=jetconstituents.pt.flatten())\n",
    "        output['dr'].fill(dataset=dataset,\n",
    "                          dr=dr.flatten())\n",
    "        output['pdgid'].fill(dataset=dataset,\n",
    "                             pdgid=jetconstituents.pdgid.flatten())\n",
=======
    "        eventReshaped = JaggedArray.fromoffsets( jetconstituents.offsets, np.ones(deta.flatten().shape[0]) )\n",
    "        eventReshaped = eventReshaped * evnum\n",
    "        \n",
    "        output['pt'].fill(dataset=dataset,\n",
    "                            pt=Jets.pt[:,0].flatten())\n",
    "        output['eta'].fill(dataset=dataset, \n",
    "                                 eta=Jets.eta[:,0].flatten())\n",
    "        output['image'].fill(dataset=dataset, \n",
    "                            event=eventReshaped.flatten(),\n",
    "                            image_deta=deta.flatten(),\n",
    "                            image_dphi=dphi.flatten(),\n",
    "                            weight=jetconstituents.pt.flatten() )\n",
    "        output['dr'].fill(dataset=dataset,dr=dr.flatten())\n",
    "        output['pdgid'].fill(dataset=dataset, pdgid=jetconstituents.pdgid.flatten())\n",
>>>>>>> 6fb14164526396d097c5bb9a7dbce2d909ab81f6
    "        \n",
    "        return output\n",
    "\n",
    "    def postprocess(self, accumulator):\n",
    "        return accumulator"
   ]
  },
  {
   "cell_type": "code",
   "execution_count": 6,
   "metadata": {
    "scrolled": false
   },
   "outputs": [
    {
     "data": {
      "application/vnd.jupyter.widget-view+json": {
<<<<<<< HEAD
       "model_id": "e85ba53cad954d76988981048cdb0e55",
=======
       "model_id": "e60ce7ccf95244fc869bf3c3fcad145f",
>>>>>>> 6fb14164526396d097c5bb9a7dbce2d909ab81f6
       "version_major": 2,
       "version_minor": 0
      },
      "text/plain": [
       "HBox(children=(IntProgress(value=0, description='Preprocessing', max=3, style=ProgressStyle(description_width=…"
      ]
     },
     "metadata": {},
     "output_type": "display_data"
    },
    {
     "name": "stdout",
     "output_type": "stream",
     "text": [
      "\n"
     ]
    },
    {
     "data": {
      "application/vnd.jupyter.widget-view+json": {
<<<<<<< HEAD
       "model_id": "f2ce4d1824c444429084a2a908604d41",
=======
       "model_id": "57a9a71bc4f6485fba712e646b82ce5a",
>>>>>>> 6fb14164526396d097c5bb9a7dbce2d909ab81f6
       "version_major": 2,
       "version_minor": 0
      },
      "text/plain": [
<<<<<<< HEAD
       "HBox(children=(IntProgress(value=0, description='Processing', max=60, style=ProgressStyle(description_width='i…"
=======
       "HBox(children=(IntProgress(value=0, description='Processing', max=6, style=ProgressStyle(description_width='in…"
>>>>>>> 6fb14164526396d097c5bb9a7dbce2d909ab81f6
      ]
     },
     "metadata": {},
     "output_type": "display_data"
    },
    {
     "name": "stdout",
     "output_type": "stream",
     "text": [
      "\n",
<<<<<<< HEAD
      "{'pt': <Hist (dataset,pt) instance at 0x7f73483d40b8>, 'eta': <Hist (dataset,eta) instance at 0x7f7348132390>, 'image': <Hist (dataset,event,image_dphi,image_deta) instance at 0x7f7348132320>, 'dr': <Hist (dataset,dr) instance at 0x7f7348132198>, 'pdgid': <Hist (dataset,pdgid) instance at 0x7f73481320b8>, 'cutflow': defaultdict(<class 'int'>, {})}\n"
=======
      "{'pt': <Hist (dataset,pt) instance at 0x7f7340804dd8>, 'eta': <Hist (dataset,eta) instance at 0x7f7340804c88>, 'image': <Hist (dataset,event,image_dphi,image_deta) instance at 0x7f7340804940>, 'dr': <Hist (dataset,dr) instance at 0x7f7340804f60>, 'pdgid': <Hist (dataset,pdgid) instance at 0x7f7340804be0>, 'cutflow': defaultdict(<class 'int'>, {})}\n"
>>>>>>> 6fb14164526396d097c5bb9a7dbce2d909ab81f6
     ]
    }
   ],
   "source": [
    "fileset={\n",
    "    'Zprime1TeV':['/mnt/data/ml/gravkk_zz_1TeV_addevnum.root'],\n",
    "    'Zprime2TeV':['/mnt/data/ml/gravkk_zz_2TeV_addevnum.root'],\n",
    "    'Zprime3TeV':['/mnt/data/ml/gravkk_zz_3TeV_addevnum.root'],\n",
<<<<<<< HEAD
    "#     'QCD':['/mnt/data/ml/qcd_flat15to7000_addevnum.root']\n",
=======
    "    #'QCD':['/mnt/data/ml/qcd_flat15to7000_addevnum.root']\n",
>>>>>>> 6fb14164526396d097c5bb9a7dbce2d909ab81f6
    "}\n",
    "tstart = time.time() \n",
    "output = processor.run_uproot_job(fileset,\n",
    "                                  treename='T',\n",
    "                                  processor_instance=JetImageProcessor(),\n",
    "                                  executor=processor.futures_executor,\n",
<<<<<<< HEAD
    "                                  executor_args={'workers':4, 'flatten': True},\n",
    "                                  chunksize=5000)\n",
=======
    "                                  executor_args={'workers':1, 'flatten': True},\n",
    "                                  chunksize=5000, maxchunks=1\n",
    "                                  \n",
    "                                 )\n",
    "\n",
    "\n",
>>>>>>> 6fb14164526396d097c5bb9a7dbce2d909ab81f6
    "elapsed = time.time() - tstart\n",
    "print(output)"
   ]
  },
  {
   "cell_type": "code",
   "execution_count": 36,
   "metadata": {},
   "outputs": [
    {
     "name": "stdout",
     "output_type": "stream",
     "text": [
      "Displaying one event (pt,eta,image,dr,pdgid):\n",
      " [0.0, 0.0, array([[  0.        ,   0.        ,   0.        ,   0.        ,\n",
      "          0.        ,   0.        ,   0.        ,   0.        ,\n",
      "          0.        ,   0.        ,   0.        ,   0.        ,\n",
      "          0.        ,   0.        ,   0.        ,   0.        ],\n",
      "       [  0.        ,   0.        ,   0.        ,   0.        ,\n",
      "          0.        ,   0.        ,   0.        ,   0.        ,\n",
      "          0.        ,   0.        ,   0.        ,   0.        ,\n",
      "          0.        ,   0.        ,   0.        ,   0.        ],\n",
      "       [  0.        ,   0.        ,   0.        ,   0.        ,\n",
      "          0.        ,   0.        ,   0.        ,   0.        ,\n",
      "          0.        ,   0.        ,   0.        ,   0.        ,\n",
      "          0.        ,   0.        ,   0.        ,   0.        ],\n",
      "       [  0.        ,   0.        ,   0.        ,   0.        ,\n",
      "          0.        ,   0.        ,   0.        ,   0.        ,\n",
      "          0.        ,   0.        ,   0.        ,   0.        ,\n",
      "          0.        ,   0.        ,   0.        ,   0.        ],\n",
      "       [  0.        ,   0.        ,   0.        ,   0.        ,\n",
      "          0.        ,   0.        ,   0.        ,   0.        ,\n",
      "          0.        ,   0.        ,   0.        ,   0.        ,\n",
      "          0.        ,   0.        ,   0.        ,   0.        ],\n",
      "       [  0.        ,   0.        ,   0.        ,   0.        ,\n",
      "          0.        ,   0.        ,   0.        ,   0.        ,\n",
      "          0.        ,   0.        ,   0.        ,   0.        ,\n",
      "          0.        ,   0.        ,   0.        ,   0.        ],\n",
      "       [  0.        ,   0.        ,   0.        ,   0.        ,\n",
      "          0.        ,   0.        ,   0.        ,   0.        ,\n",
      "          0.        ,   0.        ,   0.        ,   0.        ,\n",
      "          0.        ,   0.        ,   0.        ,   0.        ],\n",
      "       [  0.        ,   0.        ,   0.        ,   0.        ,\n",
      "          0.        ,   0.        ,   0.        ,  11.20313668,\n",
      "        160.84963608,   0.        ,   0.        ,   0.        ,\n",
      "          0.        ,   0.        ,   0.        ,   0.        ],\n",
      "       [  0.        ,   0.        ,   0.        ,   0.        ,\n",
      "          0.        ,   0.        ,   3.63618684,  21.86550283,\n",
      "         14.37814474,   0.        ,   0.        ,   0.        ,\n",
      "          0.        ,   0.        ,   0.        ,   0.        ],\n",
      "       [  0.        ,   0.        ,   0.        ,   0.        ,\n",
      "          0.        ,   0.        ,   1.67058027,   2.36247396,\n",
      "          2.77220631,   0.        ,   0.        ,   0.        ,\n",
      "          0.        ,   0.        ,   0.        ,   0.        ],\n",
      "       [  0.        ,   0.        ,   0.        ,   0.        ,\n",
      "          0.        ,   0.        ,   0.        ,   1.36119998,\n",
      "          1.03107738,   1.20326698,   0.        ,   0.        ,\n",
      "          0.        ,   0.        ,   0.        ,   0.        ],\n",
      "       [  0.        ,   0.        ,   0.        ,   0.        ,\n",
      "          0.        ,   0.        ,   0.        , 101.3317852 ,\n",
      "         33.64264858,   0.        ,   0.        ,   0.        ,\n",
      "          0.        ,   0.        ,   0.        ,   0.        ],\n",
      "       [  0.        ,   0.        ,   0.        ,   0.        ,\n",
      "          0.        ,   0.        ,   0.        ,   0.        ,\n",
      "          3.96821308,   0.        ,   0.        ,   0.        ,\n",
      "          0.        ,   0.        ,   0.        ,   0.        ],\n",
      "       [  0.        ,   0.        ,   0.        ,   0.        ,\n",
      "          0.        ,   0.        ,   0.        ,   0.        ,\n",
      "          0.        ,   0.        ,   0.        ,   0.        ,\n",
      "          0.        ,   0.        ,   0.        ,   0.        ],\n",
      "       [  0.        ,   0.        ,   0.        ,   0.        ,\n",
      "          0.        ,   0.        ,   0.        ,   0.        ,\n",
      "          0.        ,   0.        ,   0.        ,   0.        ,\n",
      "          0.        ,   0.        ,   0.        ,   0.        ],\n",
      "       [  0.        ,   0.        ,   0.        ,   0.        ,\n",
      "          0.        ,   0.        ,   0.        ,   0.        ,\n",
      "          0.        ,   0.        ,   0.        ,   0.        ,\n",
      "          0.        ,   0.        ,   0.        ,   0.        ]]), 31404.0, 0.0]\n"
     ]
    }
   ],
   "source": [
    "dataset = dataStream(output)\n",
    "batched_dataset = dataset.batch(4)\n",
    "batched_dataset = batched_dataset.prefetch(buffer_size=tf.data.experimental.AUTOTUNE)\n",
    "for batch in batched_dataset.take(1):\n",
    "    print('Displaying one event (pt,eta,image,dr,pdgid):\\n',[arr[0][0].numpy() for arr in batch])"
   ]
  },
  {
   "cell_type": "code",
   "execution_count": null,
   "metadata": {},
   "outputs": [],
   "source": [
    "import matplotlib.pyplot as plt\n",
    "from matplotlib.colors import LogNorm"
   ]
  },
  {
   "cell_type": "code",
   "execution_count": null,
   "metadata": {},
   "outputs": [],
<<<<<<< HEAD
   "source": [
    "# image1 = np.array((output['image']['Zprime1TeV'].integrate(\"event\",1).values()).get(('Zprime1TeV',)))\n",
    "# print('left = ',sum(image1[:,:8].flatten()))\n",
    "# print('right = ',sum(image1[:,8:].flatten()))"
   ]
  },
  {
   "cell_type": "code",
   "execution_count": null,
   "metadata": {},
   "outputs": [],
   "source": [
    "fig, ax, grid = hist.plot2d(output['image'].integrate('dataset', 'Zprime1TeV').integrate(\"event\",1),xaxis='image_deta', patch_opts={'norm':LogNorm(vmin=1, vmax=1e6),'cmap':'Blues'})\n",
    "print(fig)\n",
    "fig.savefig(\"Zprime1TeV_eventImage.png\")"
   ]
  },
  {
   "cell_type": "code",
   "execution_count": null,
   "metadata": {},
   "outputs": [],
   "source": [
    "fig, ax, grid = hist.plot2d(output['image'].integrate('dataset', 'Zprime1TeV').integrate(\"event\"),xaxis='image_deta', patch_opts={'norm':LogNorm(vmin=1, vmax=1e6),'cmap':'Blues'})\n",
    "print(fig)\n",
=======
   "source": []
  },
  {
   "cell_type": "code",
   "execution_count": 10,
   "metadata": {
    "scrolled": true
   },
   "outputs": [
    {
     "data": {
      "image/png": "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\n",
      "text/plain": [
       "<Figure size 432x288 with 2 Axes>"
      ]
     },
     "metadata": {
      "needs_background": "light"
     },
     "output_type": "display_data"
    }
   ],
   "source": [
    "\n",
    "fig, ax, grid = hist.plot2d(output['image'].integrate('dataset', 'Zprime1TeV').integrate(\"event\"),xaxis='image_deta', patch_opts={'norm':LogNorm(vmin=1, vmax=1e6),'cmap':'Blues'})\n",
    "\n",
>>>>>>> 6fb14164526396d097c5bb9a7dbce2d909ab81f6
    "fig.savefig(\"Zprime1TeV_image.png\")"
   ]
  },
  {
   "cell_type": "code",
<<<<<<< HEAD
   "execution_count": null,
   "metadata": {
    "scrolled": true
   },
   "outputs": [],
=======
   "execution_count": 9,
   "metadata": {
    "scrolled": true
   },
   "outputs": [
    {
     "data": {
      "image/png": "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\n",
      "text/plain": [
       "<Figure size 432x288 with 2 Axes>"
      ]
     },
     "metadata": {
      "needs_background": "light"
     },
     "output_type": "display_data"
    }
   ],
>>>>>>> 6fb14164526396d097c5bb9a7dbce2d909ab81f6
   "source": [
    "fig, ax, grid = hist.plot2d(output['image'].integrate('dataset', 'Zprime2TeV').integrate(\"event\"),xaxis='image_deta', patch_opts={'norm':LogNorm(vmin=1, vmax=1e6),'cmap':'Blues'})\n",
    "\n",
    "fig.savefig(\"Zprime2TeV_image.png\")"
   ]
  },
  {
   "cell_type": "code",
<<<<<<< HEAD
   "execution_count": null,
   "metadata": {},
   "outputs": [],
=======
   "execution_count": 11,
   "metadata": {},
   "outputs": [
    {
     "data": {
      "image/png": "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\n",
      "text/plain": [
       "<Figure size 432x288 with 2 Axes>"
      ]
     },
     "metadata": {
      "needs_background": "light"
     },
     "output_type": "display_data"
    }
   ],
>>>>>>> 6fb14164526396d097c5bb9a7dbce2d909ab81f6
   "source": [
    "fig, ax, grid = hist.plot2d(output['image'].integrate('dataset', 'Zprime3TeV').integrate(\"event\"),xaxis='image_deta', patch_opts={'norm':LogNorm(vmin=1, vmax=1e6),'cmap':'Blues'})\n",
    "\n",
    "fig.savefig(\"Zprime3TeV_image.png\")"
   ]
  },
  {
   "cell_type": "code",
<<<<<<< HEAD
   "execution_count": null,
   "metadata": {},
   "outputs": [],
   "source": [
    "fig, ax, grid = hist.plot2d(output['image'].integrate('dataset', 'Zprime3TeV').integrate(\"event\",1)\n",
    "                            ,xaxis='image_deta', patch_opts={'norm':LogNorm(vmin=1, vmax=1e6),'cmap':'Blues'})\n",
    "\n",
    "fig.savefig(\"Zprime3TeV_eventImage.png\")"
=======
   "execution_count": 12,
   "metadata": {},
   "outputs": [
    {
     "data": {
      "image/png": "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\n",
      "text/plain": [
       "<Figure size 432x288 with 2 Axes>"
      ]
     },
     "metadata": {
      "needs_background": "light"
     },
     "output_type": "display_data"
    }
   ],
   "source": [
    "fig, ax, grid = hist.plot2d(output['image'].integrate('dataset', 'Zprime3TeV').integrate(\"event\", 1),xaxis='image_deta', patch_opts={'norm':LogNorm(vmin=1, vmax=1e6),'cmap':'Blues'})\n",
    "\n",
    "fig.savefig(\"Zprime3TeV_image_event1.png\")"
>>>>>>> 6fb14164526396d097c5bb9a7dbce2d909ab81f6
   ]
  },
  {
   "cell_type": "code",
   "execution_count": null,
   "metadata": {},
   "outputs": [],
   "source": [
<<<<<<< HEAD
    "# fig, ax, grid = hist.plot2d(output['image'].integrate('dataset', 'QCD'),xaxis='image_deta', patch_opts={'norm':LogNorm(vmin=1, vmax=1e6),'cmap':'Blues'})\n",
    "\n",
    "# fig.savefig(\"QCD_image.png\")"
=======
    "#fig, ax, grid = hist.plot2d(output['image'].integrate('dataset', 'QCD'),xaxis='image_deta', patch_opts={'norm':LogNorm(vmin=1, vmax=1e6),'cmap':'Blues'})\n",
    "\n",
    "#fig.savefig(\"QCD_image.png\")"
>>>>>>> 6fb14164526396d097c5bb9a7dbce2d909ab81f6
   ]
  },
  {
   "cell_type": "code",
   "execution_count": null,
   "metadata": {},
   "outputs": [],
   "source": [
    "fig, ax = hist.plotgrid(output['dr'], overlay=\"dataset\", stack=False, density=True\n",
    "                                 )\n",
    "for iax in ax.flatten():\n",
    "    iax.autoscale(axis='y')\n",
    "fig.show()\n",
    "fig.savefig(\"dr_plot.png\")"
   ]
  },
  {
   "cell_type": "code",
   "execution_count": null,
   "metadata": {},
   "outputs": [],
   "source": [
    "fig, ax = hist.plotgrid(output['pt'], overlay=\"dataset\", stack=False, density=True\n",
    "                                 )\n",
    "for iax in ax.flatten():\n",
    "    iax.autoscale(axis='y')\n",
    "fig.show()\n",
    "fig.savefig(\"pt_plot.png\")"
   ]
  },
  {
   "cell_type": "code",
   "execution_count": null,
   "metadata": {},
   "outputs": [],
   "source": []
  }
 ],
 "metadata": {
  "kernelspec": {
   "display_name": "Python 3",
   "language": "python",
   "name": "python3"
  },
  "language_info": {
   "codemirror_mode": {
    "name": "ipython",
    "version": 3
   },
   "file_extension": ".py",
   "mimetype": "text/x-python",
   "name": "python",
   "nbconvert_exporter": "python",
   "pygments_lexer": "ipython3",
   "version": "3.6.8"
  }
 },
 "nbformat": 4,
 "nbformat_minor": 2
}
