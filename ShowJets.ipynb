{
 "cells": [
  {
   "cell_type": "markdown",
   "metadata": {},
   "source": [
    "# Plotting jets as images"
   ]
  },
  {
   "cell_type": "code",
   "execution_count": 1,
   "metadata": {},
   "outputs": [],
   "source": [
    "import time\n",
    "\n",
    "from coffea import hist\n",
    "from coffea.analysis_objects import JaggedCandidateArray\n",
    "import coffea.processor as processor\n",
    "from awkward import JaggedArray\n",
    "import numpy as np\n",
    "import glob as glob\n",
    "import itertools\n",
    "import json\n",
    "import uproot_methods\n",
    "import copy\n",
    "from coord_transform import *"
   ]
  },
  {
   "cell_type": "code",
   "execution_count": null,
   "metadata": {},
   "outputs": [],
   "source": []
  },
  {
   "cell_type": "code",
   "execution_count": 2,
   "metadata": {},
   "outputs": [],
   "source": [
    "def transform_to_softdrop_axes(jetparticles,Jets):\n",
    "    \n",
    "\n",
    "    subjet0leading = (Jets.subjet0_pt > Jets.subjet1_pt)\n",
    "    centroid1_pt = np.where( subjet0leading, Jets.subjet0_pt, Jets.subjet1_pt  )\n",
    "    centroid1_eta = np.where( subjet0leading, Jets.subjet0_eta, Jets.subjet1_eta  )\n",
    "    centroid1_phi = np.where( subjet0leading, Jets.subjet0_phi, Jets.subjet1_phi  )\n",
    "    centroid1_m = np.where( subjet0leading, Jets.subjet0_m, Jets.subjet1_m  )\n",
    "    centroid2_pt = np.where( subjet0leading, Jets.subjet1_pt, Jets.subjet0_pt,   )\n",
    "    centroid2_eta = np.where( subjet0leading, Jets.subjet1_eta, Jets.subjet0_eta  )\n",
    "    centroid2_phi = np.where( subjet0leading, Jets.subjet1_phi, Jets.subjet0_phi  )\n",
    "    centroid2_m = np.where( subjet0leading, Jets.subjet1_m, Jets.subjet0_m  )\n",
    "    pcentroid1 = uproot_methods.TLorentzVectorArray.from_ptetaphim( centroid1_pt, centroid1_eta, centroid1_phi, centroid1_m )\n",
    "    pcentroid2 = uproot_methods.TLorentzVectorArray.from_ptetaphim( centroid2_pt, centroid2_eta, centroid2_phi, centroid2_m )\n",
    "    \n",
    "    centroid1 = uproot_methods.TVector3Array.from_cartesian(pcentroid1.x, pcentroid1.y, pcentroid1.z)\n",
    "    centroid2 = uproot_methods.TVector3Array.from_cartesian(pcentroid2.x, pcentroid2.y, pcentroid2.z)\n",
    "    particle_p3s = uproot_methods.TVector3Array.from_cartesian(jetparticles.p4.x, jetparticles.p4.y, jetparticles.p4.z)\n",
    "    #print(\"centroid 2 step 1 \", centroid2)\n",
    "    \n",
    "    # Rotate coordinate system so \"centroid1\" is along the x axis\n",
    "    rot1_axis, rot1_angle = coord_rotation( centroid1, uproot_methods.TVector3(1,0,0) )    \n",
    "    centroid1 = centroid1.rotate_axis(rot1_axis, rot1_angle)\n",
    "    centroid2 = centroid2.rotate_axis(rot1_axis, rot1_angle)\n",
    "    particle_p3s = particle_p3s.rotate_axis(rot1_axis, rot1_angle)\n",
    "    #print(\"centroid 2 step 2 \", centroid2)\n",
    "\n",
    "\n",
    "    # Now rotate about the z axis so that centroid2 is pointing down\n",
    "    #rot2_angle = -np.pi*0.5 - centroid2.phi    \n",
    "    #centroid2 = centroid2.rotatex(rot2_angle)\n",
    "    #particle_p3s = particle_p3s.rotatex(rot2_angle)\n",
    "\n",
    "    #rot2_axis = uproot_methods.TVector3(0,0,1)\n",
    "    #rot2_angle = -centroid2.angle( uproot_methods.TVector3(0,1,0))\n",
    "    #centroid2 = centroid2.rotatez(rot2_angle)\n",
    "    #particle_p3s = particle_p3s.rotatez(rot2_angle)\n",
    "    #print(\"centroid 1 :\", centroid1, \" theta,phi = \", centroid1.theta, \", \", centroid1.phi )\n",
    "    #print(\"centroid 2 :\", centroid2, \" theta,phi = \", centroid2.theta, \", \", centroid2.phi )\n",
    "    \n",
    "    dtheta = particle_p3s.theta - centroid1.theta\n",
    "    dphi = particle_p3s.phi - centroid1.phi\n",
    "    #print('dtheta:', dtheta)\n",
    "    #print('dphi:', dphi)\n",
    "\n",
    "    return dtheta,dphi\n",
    "    "
   ]
  },
  {
   "cell_type": "code",
   "execution_count": 3,
   "metadata": {},
   "outputs": [],
   "source": [
    "# Look at ProcessorABC to see the expected methods and what they are supposed to do\n",
    "class JetImageProcessor(processor.ProcessorABC):\n",
    "    def __init__(self):\n",
    "        dataset_axis = hist.Cat(\"dataset\", \"Primary dataset\")\n",
    "        pdgid_axis = hist.Bin(\"pdgid\", r\"PDG ID\", 10000, -5000, 5000)\n",
    "        eta_axis = hist.Bin(\"eta\", r\"$\\eta$\", 32, -5, 5)\n",
    "        phi_axis = hist.Bin(\"phi\", r\"$\\phi$\", 32, -np.pi, np.pi)\n",
    "        image_dphi = hist.Bin(\"image_dphi\", r\"$\\Delta \\phi$\", 64, -1, 1)\n",
    "        image_dtheta = hist.Bin(\"image_dtheta\", r\"$\\Delta \\theta$\", 64, -1, 1)\n",
    "        pt_axis = hist.Bin(\"pt\", r\"$p_{T}$ [GeV]\", \n",
    "                           np.array([0,5,10,15,20,25,30,35,40,45,50,60,70,80,90,\n",
    "                                     100,120,140,160,180,\n",
    "                                     200,250,300,350,400,450,500,\n",
    "                                     600,700,800,900,1000,\n",
    "                                     1500,2000,3000,4000,5000]))\n",
    "        m_axis = hist.Bin(\"m\", r\"$p_{T}$ [GeV]\", 200, 0, 500)\n",
    "        dr_axis = hist.Bin(\"dr\", r\"$\\Delta r$\", 80, 0, 0.8)\n",
    "        \n",
    "        self._accumulator = processor.dict_accumulator({\n",
    "            'pt':hist.Hist(\"Counts\", dataset_axis, pt_axis),\n",
    "            'eta':hist.Hist(\"Counts\", dataset_axis, eta_axis),\n",
    "            'image':hist.Hist(\"Counts\", dataset_axis, image_dphi, image_dtheta),\n",
    "            'dr':hist.Hist(\"Counts\", dataset_axis, dr_axis),\n",
    "            'pdgid':hist.Hist(\"Counts\", dataset_axis, pdgid_axis),\n",
    "            'cutflow': processor.defaultdict_accumulator(int)\n",
    "        })\n",
    "    \n",
    "    @property\n",
    "    def accumulator(self):\n",
    "        return self._accumulator\n",
    "    \n",
    "    def process(self, df):\n",
    "        output = self.accumulator.identity()\n",
    "\n",
    "        #print(\"1\")\n",
    "        dataset = df['dataset']\n",
    "        Jets = JaggedCandidateArray.candidatesfromcounts(\n",
    "            df['nJet'],\n",
    "            pt=df['jet_pt'],\n",
    "            eta=df['jet_eta'],\n",
    "            phi=df['jet_phi'],\n",
    "            mass=df['jet_m'],\n",
    "            msd=df['jet_msd'],\n",
    "            subjet0_pt=df['jet_subjet0_pt'],\n",
    "            subjet0_eta=df['jet_subjet0_eta'],\n",
    "            subjet0_phi=df['jet_subjet0_phi'],\n",
    "            subjet0_m=df['jet_subjet0_m'],\n",
    "            subjet1_pt=df['jet_subjet1_pt'],\n",
    "            subjet1_eta=df['jet_subjet1_eta'],\n",
    "            subjet1_phi=df['jet_subjet1_phi'],\n",
    "            subjet1_m=df['jet_subjet1_m'],\n",
    "            ic=df['jet_ic']\n",
    "            )        \n",
    "        constituents = JaggedCandidateArray.candidatesfromcounts(\n",
    "            df['nConstituent'],\n",
    "            pt=df['constituent_pt'],\n",
    "            eta=df['constituent_eta'],\n",
    "            phi=df['constituent_phi'],\n",
    "            mass=df['constituent_m'],\n",
    "            pdgid=df['constituent_id']\n",
    "            )\n",
    "        #print(\"particles type : \", type(particles))\n",
    "        \n",
    "        dtheta,dphi = transform_to_softdrop_axes(constituents, Jets[:,0])        \n",
    "        constituents.add_attributes( dtheta=dtheta )\n",
    "        constituents.add_attributes( dphi=dphi )\n",
    "        \n",
    "                \n",
    "        dr = Jets[:,0].p4.delta_r(constituents.p4)\n",
    "        jetconstituents = constituents[dr < 0.8]\n",
    "        jetconstituents = jetconstituents\n",
    "        \n",
    "        dtheta_cut = np.abs( jetconstituents.dtheta ) > 0.03\n",
    "        dphi_cut = np.abs( jetconstituents.dphi ) > 0.03\n",
    "        boxcut = (dtheta_cut) | (dphi_cut)\n",
    "        dtheta = jetconstituents[boxcut].dtheta\n",
    "        dphi = jetconstituents[boxcut].dphi\n",
    "        \n",
    "        output['pt'].fill(dataset=dataset,\n",
    "                            pt=Jets.pt.flatten())\n",
    "        output['eta'].fill(dataset=dataset, \n",
    "                                 eta=Jets.eta.flatten())\n",
    "        output['image'].fill(dataset=dataset, \n",
    "                            image_dtheta=dtheta.flatten(),\n",
    "                            image_dphi=dphi.flatten())\n",
    "        output['dr'].fill(dataset=dataset,dr=dr.flatten())\n",
    "        output['pdgid'].fill(dataset=dataset, pdgid=jetconstituents.pdgid.flatten())\n",
    "        \n",
    "        return output\n",
    "\n",
    "    def postprocess(self, accumulator):\n",
    "        return accumulator"
   ]
  },
  {
   "cell_type": "code",
   "execution_count": null,
   "metadata": {
    "scrolled": false
   },
   "outputs": [
    {
     "data": {
      "application/vnd.jupyter.widget-view+json": {
       "model_id": "e569fd20b8bd4f34994d497253e960c8",
       "version_major": 2,
       "version_minor": 0
      },
      "text/plain": [
       "HBox(children=(IntProgress(value=0, description='Preprocessing', max=1, style=ProgressStyle(description_width=…"
      ]
     },
     "metadata": {},
     "output_type": "display_data"
    },
    {
     "name": "stdout",
     "output_type": "stream",
     "text": [
      "\n"
     ]
    },
    {
     "data": {
      "application/vnd.jupyter.widget-view+json": {
       "model_id": "610ba112b7bc430696e90c87b3cae880",
       "version_major": 2,
       "version_minor": 0
      },
      "text/plain": [
       "HBox(children=(IntProgress(value=0, description='Processing', max=20, style=ProgressStyle(description_width='i…"
      ]
     },
     "metadata": {},
     "output_type": "display_data"
    }
   ],
   "source": [
    "\n",
    "\n",
    "fileset={\n",
    "    'Zprime1TeV':['/mnt/data/ml/gravkk_zz_3TeV_nsj.root'],\n",
    "    #'Zprime2TeV':['/mnt/data/ml/gravkk_zz_2TeV_addsubstructure.root'],\n",
    "    #'Zprime3TeV':['/mnt/data/ml/gravkk_zz_3TeV_addsubstructure.root'],\n",
    "    #'QCD':'/mnt/data/ml/qcd_flat15to7000_addsubstructure.root'\n",
    "}\n",
    "tstart = time.time() \n",
    "output = processor.run_uproot_job(fileset,\n",
    "                                  treename='T',\n",
    "                                  processor_instance=JetImageProcessor(),\n",
    "                                  executor=processor.futures_executor,\n",
    "                                  executor_args={'workers':4, 'flatten': True},\n",
    "                                  chunksize=5000#,maxchunks=100\n",
    "                                  \n",
    "                                 )\n",
    "\n",
    "\n",
    "elapsed = time.time() - tstart\n",
    "print(output)"
   ]
  },
  {
   "cell_type": "code",
   "execution_count": null,
   "metadata": {},
   "outputs": [],
   "source": [
    "import matplotlib.pyplot as plt"
   ]
  },
  {
   "cell_type": "code",
   "execution_count": null,
   "metadata": {},
   "outputs": [],
   "source": []
  },
  {
   "cell_type": "code",
   "execution_count": null,
   "metadata": {},
   "outputs": [],
   "source": [
    "fig, ax, grid = hist.plot2d(output['image'].integrate('dataset'),xaxis='image_dtheta')"
   ]
  },
  {
   "cell_type": "code",
   "execution_count": null,
   "metadata": {},
   "outputs": [],
   "source": [
    "grid"
   ]
  },
  {
   "cell_type": "code",
   "execution_count": null,
   "metadata": {},
   "outputs": [],
   "source": [
    "fig, ax = hist.plotgrid(output['dr'], overlay=\"dataset\", stack=False\n",
    "                                 )\n",
    "for iax in ax.flatten():\n",
    "    iax.autoscale(axis='y')\n",
    "fig.show()"
   ]
  },
  {
   "cell_type": "code",
   "execution_count": null,
   "metadata": {},
   "outputs": [],
   "source": []
  },
  {
   "cell_type": "code",
   "execution_count": null,
   "metadata": {},
   "outputs": [],
   "source": []
  },
  {
   "cell_type": "code",
   "execution_count": null,
   "metadata": {},
   "outputs": [],
   "source": []
  },
  {
   "cell_type": "code",
   "execution_count": null,
   "metadata": {},
   "outputs": [],
   "source": []
  }
 ],
 "metadata": {
  "kernelspec": {
   "display_name": "Python 3",
   "language": "python",
   "name": "python3"
  },
  "language_info": {
   "codemirror_mode": {
    "name": "ipython",
    "version": 3
   },
   "file_extension": ".py",
   "mimetype": "text/x-python",
   "name": "python",
   "nbconvert_exporter": "python",
   "pygments_lexer": "ipython3",
   "version": "3.6.8"
  }
 },
 "nbformat": 4,
 "nbformat_minor": 2
}
