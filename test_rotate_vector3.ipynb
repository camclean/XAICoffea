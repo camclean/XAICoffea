{
 "cells": [
  {
   "cell_type": "code",
   "execution_count": 1,
   "metadata": {},
   "outputs": [],
   "source": [
    "import uproot\n",
    "from uproot_methods import *\n",
    "import numpy as np\n",
    "from coord_transforms import coord_rotation"
   ]
  },
  {
   "cell_type": "code",
   "execution_count": 2,
   "metadata": {},
   "outputs": [],
   "source": [
    "def test_rotate_vector3():\n",
    "    xhat = TVector3(1,0,0)\n",
    "    a = TVector3(0,1,0)\n",
    "    b = TVector3(1,0,0)\n",
    "    c = TVector3(0.3,0.5,0)\n",
    "    # Get the angle of rotation to the x axis\n",
    "    axis_perp, alpha = coord_rotation(a,xhat)\n",
    "    a_rot = a.rotate_axis( axis_perp, alpha)\n",
    "    b_rot = b.rotate_axis( axis_perp, alpha)\n",
    "    c_rot = c.rotate_axis( axis_perp, alpha)\n",
    "    print('a    :', a)\n",
    "    print('   -> ', a_rot)\n",
    "    print('b    :', b)\n",
    "    print('   -> ', b_rot)\n",
    "    print('c    :', c)\n",
    "    print('   -> ', c_rot)"
   ]
  },
  {
   "cell_type": "code",
   "execution_count": 3,
   "metadata": {},
   "outputs": [
    {
     "name": "stdout",
     "output_type": "stream",
     "text": [
      "a    : TVector3(0, 1, 0)\n",
      "   ->  TVector3(1, 6.1232e-17, 0)\n",
      "b    : TVector3(1, 0, 0)\n",
      "   ->  TVector3(6.1232e-17, -1, 0)\n",
      "c    : TVector3(0.3, 0.5, 0)\n",
      "   ->  TVector3(0.5, -0.3, 0)\n"
     ]
    }
   ],
   "source": [
    "test_rotate_vector3()"
   ]
  },
  {
   "cell_type": "code",
   "execution_count": null,
   "metadata": {},
   "outputs": [],
   "source": []
  }
 ],
 "metadata": {
  "kernelspec": {
   "display_name": "Python 3",
   "language": "python",
   "name": "python3"
  },
  "language_info": {
   "codemirror_mode": {
    "name": "ipython",
    "version": 3
   },
   "file_extension": ".py",
   "mimetype": "text/x-python",
   "name": "python",
   "nbconvert_exporter": "python",
   "pygments_lexer": "ipython3",
   "version": "3.6.8"
  }
 },
 "nbformat": 4,
 "nbformat_minor": 2
}
